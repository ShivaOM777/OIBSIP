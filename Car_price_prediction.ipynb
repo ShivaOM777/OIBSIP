{
  "nbformat": 4,
  "nbformat_minor": 0,
  "metadata": {
    "colab": {
      "private_outputs": true,
      "provenance": []
    },
    "kernelspec": {
      "name": "python3",
      "display_name": "Python 3"
    },
    "language_info": {
      "name": "python"
    }
  },
  "cells": [
    {
      "cell_type": "code",
      "execution_count": null,
      "metadata": {
        "id": "vgoTKA8_0c9z"
      },
      "outputs": [],
      "source": [
        "from google.colab import drive\n",
        "drive.mount('/content/gdrive')"
      ]
    },
    {
      "cell_type": "code",
      "source": [
        "cd /content/gdrive/My Drive/Colab Notebooks"
      ],
      "metadata": {
        "id": "8DZMzgWA1CJN"
      },
      "execution_count": null,
      "outputs": []
    },
    {
      "cell_type": "code",
      "source": [
        "# Importing necessary libraries\n",
        "import pandas as pd\n",
        "from sklearn.model_selection import train_test_split\n",
        "from sklearn.linear_model import LinearRegression\n",
        "from sklearn.metrics import mean_squared_error"
      ],
      "metadata": {
        "id": "0YeuoB7k1Zck"
      },
      "execution_count": null,
      "outputs": []
    },
    {
      "cell_type": "code",
      "source": [
        "#Importing the Car Data\n",
        "car_data=pd.read_csv(\"car data.csv\")\n",
        "car_data"
      ],
      "metadata": {
        "id": "JnGl_L9D1Obm"
      },
      "execution_count": null,
      "outputs": []
    },
    {
      "cell_type": "code",
      "source": [
        "car_data.shape"
      ],
      "metadata": {
        "id": "DMLx1_HQ3TRc"
      },
      "execution_count": null,
      "outputs": []
    },
    {
      "cell_type": "code",
      "source": [
        "car_data.info()"
      ],
      "metadata": {
        "id": "ET7HCYHI3ea7"
      },
      "execution_count": null,
      "outputs": []
    },
    {
      "cell_type": "code",
      "source": [
        "car_data.isnull().sum()"
      ],
      "metadata": {
        "id": "Id6FPGIZ3iiD"
      },
      "execution_count": null,
      "outputs": []
    },
    {
      "cell_type": "code",
      "source": [
        "datatype = car_data.dtypes\n",
        "print(datatype)"
      ],
      "metadata": {
        "id": "EwyATIM-5HaB"
      },
      "execution_count": null,
      "outputs": []
    },
    {
      "cell_type": "code",
      "source": [
        "numeric_features = ['Year','Selling_Price','Present_Price','Driven_kms','Owner']\n",
        "cat_features = ['Car_Name','Fuel_Type','Selling_type','Transmission']\n",
        "print(\"Numerical Features:\")\n",
        "print(numeric_features)\n",
        "print(\"\\nCategorical Features:\")\n",
        "print(cat_features)"
      ],
      "metadata": {
        "id": "0aFMKGTC5Q1r"
      },
      "execution_count": null,
      "outputs": []
    },
    {
      "cell_type": "code",
      "source": [
        "# Features to convert to categorical\n",
        "features_to_convert = ['Car_Name','Fuel_Type','Selling_type','Transmission']\n",
        "\n",
        "# Convert selected features to categorical data types\n",
        "for feature in features_to_convert:\n",
        "    car_data[feature] = car_data[feature].astype('category')\n",
        "\n",
        "dtype = car_data.dtypes\n",
        "print(dtype)"
      ],
      "metadata": {
        "id": "b6ImyZ_670yj"
      },
      "execution_count": null,
      "outputs": []
    },
    {
      "cell_type": "code",
      "source": [
        "#--- Import matplotlib and  seaborn---\n",
        "import matplotlib.pyplot as plt\n",
        "import seaborn as sns\n",
        "\n",
        "# Selecting only the numerical features for correlation analysis\n",
        "numeric_features = ['Year','Selling_Price','Present_Price','Driven_kms','Owner']\n",
        "\n",
        "corr_data = car_data[numeric_features].corr()\n",
        "\n",
        "# Plotting the heatmap\n",
        "plt.figure(figsize=(10, 8))\n",
        "sns.heatmap(corr_data, annot=True, cmap='coolwarm', fmt=\".2f\", annot_kws={\"size\": 10})\n",
        "plt.title('Correlation Heatmap of Numerical Features')\n",
        "plt.show()"
      ],
      "metadata": {
        "id": "j9pEnqq98Rx0"
      },
      "execution_count": null,
      "outputs": []
    },
    {
      "cell_type": "code",
      "source": [
        "plt.figure(figsize=(8, 6))\n",
        "Owner_ax = sns.countplot(x='Owner', data=car_data, palette='Set2')\n",
        "Owner_ax.set_title('Distribution of Owner')\n",
        "Owner_ax.set_xlabel('Owner')\n",
        "Owner_ax.set_ylabel('Count')\n",
        "plt.show()"
      ],
      "metadata": {
        "id": "gWxt4AMJDo2l"
      },
      "execution_count": null,
      "outputs": []
    },
    {
      "cell_type": "code",
      "source": [
        "plt.figure(figsize=(10, 6))\n",
        "Car_Name_ax = sns.countplot(x='Car_Name', data=car_data, palette='Set2')\n",
        "Car_Name_ax.set_xlabel('Car_Name')\n",
        "Car_Name_ax.set_ylabel('Count')\n",
        "plt.show()"
      ],
      "metadata": {
        "id": "Q0LMCPneEArO"
      },
      "execution_count": null,
      "outputs": []
    },
    {
      "cell_type": "code",
      "source": [
        "# Plotting the countplot for check Relationship between Fuel_Type\n",
        "plt.figure(figsize=(10, 6))\n",
        "Fuel_Type_ax = sns.countplot(x='Fuel_Type', data=car_data, palette='Set2')\n",
        "Fuel_Type_ax.set_title('Relationship between Fuel_Type')\n",
        "Fuel_Type_ax.set_xlabel('Fule_Type')\n",
        "Fuel_Type_ax.set_ylabel('Count')\n",
        "plt.show()"
      ],
      "metadata": {
        "id": "DyiHm2KiFD2G"
      },
      "execution_count": null,
      "outputs": []
    },
    {
      "cell_type": "code",
      "source": [
        "plt.figure(figsize=(10, 6))\n",
        "Selling_type_ax = sns.countplot(x='Selling_type',data=car_data, palette='Set2')\n",
        "Selling_type_ax.set_title('Relationship between Selling_type')\n",
        "Selling_type_ax.set_xlabel('Selling_type')\n",
        "Selling_type_ax.set_ylabel('Count')\n",
        "plt.show()"
      ],
      "metadata": {
        "id": "yUlBZBP3GhS_"
      },
      "execution_count": null,
      "outputs": []
    },
    {
      "cell_type": "code",
      "source": [
        "plt.figure(figsize=(10, 6))\n",
        "Transmission_ax = sns.countplot(x='Transmission', data=car_data, palette='Set2')\n",
        "Transmission_ax.set_title('Relationship between Transmission')\n",
        "Transmission_ax.set_xlabel('Transmission')\n",
        "Transmission_ax.set_ylabel('Count')\n",
        "plt.show()"
      ],
      "metadata": {
        "id": "wL7wZhriHsM_"
      },
      "execution_count": null,
      "outputs": []
    },
    {
      "cell_type": "code",
      "source": [
        "# Extracting the 'trestbps' column from the dataset\n",
        "Year_col = car_data['Year']\n",
        "\n",
        "# Plotting the histogram.\n",
        "plt.figure(figsize=(8, 6))\n",
        "plt.hist(Year_col, bins=20, color='skyblue', edgecolor='black')\n",
        "plt.title('Car Data for Year')\n",
        "plt.xlabel('No.of Years')\n",
        "plt.ylabel('Count')\n",
        "plt.grid(True)\n",
        "plt.show()"
      ],
      "metadata": {
        "id": "obYExWLUMu2N"
      },
      "execution_count": null,
      "outputs": []
    },
    {
      "cell_type": "code",
      "source": [
        "# Extracting the 'trestbps' column from the dataset\n",
        "Selling_Price_col = car_data['Selling_Price']\n",
        "\n",
        "# Plotting the histogram.\n",
        "plt.figure(figsize=(8, 6))\n",
        "plt.hist(Selling_Price_col, bins=20, color='lightgreen', edgecolor='black')\n",
        "plt.title('Car Data Selling_Price')\n",
        "plt.xlabel('Selling_Price)')\n",
        "plt.ylabel('Count')\n",
        "plt.grid(True)\n",
        "plt.show()"
      ],
      "metadata": {
        "id": "HBnOF8UYM5SJ"
      },
      "execution_count": null,
      "outputs": []
    },
    {
      "cell_type": "code",
      "source": [
        "# Extracting the 'trestbps' column from the dataset\n",
        "Present_Price_col = car_data['Present_Price']\n",
        "\n",
        "# Plotting the histogram\n",
        "plt.figure(figsize=(8, 6))\n",
        "plt.hist(Present_Price_col, bins=20, color='salmon', edgecolor='black')\n",
        "plt.title('Car Data Present_Price')\n",
        "plt.xlabel('Present_Price')\n",
        "plt.ylabel('Count')\n",
        "plt.grid(True)\n",
        "plt.show()"
      ],
      "metadata": {
        "id": "M6rN9eOLNvZa"
      },
      "execution_count": null,
      "outputs": []
    },
    {
      "cell_type": "code",
      "source": [
        "# Extracting the 'trestbps' column from the dataset\n",
        "Driven_kms_col = car_data['Driven_kms']\n",
        "\n",
        "# Plotting the histogram\n",
        "plt.figure(figsize=(8, 6))\n",
        "plt.hist(Driven_kms_col, bins=20, color='salmon', edgecolor='black')\n",
        "plt.title('Car Data Driven_kms')\n",
        "plt.xlabel('Driven_kms')\n",
        "plt.ylabel('Count')\n",
        "plt.grid(True)\n",
        "plt.show()"
      ],
      "metadata": {
        "id": "S3loSzFdOU58"
      },
      "execution_count": null,
      "outputs": []
    },
    {
      "cell_type": "code",
      "source": [
        "plt.figure(figsize=(12, 8))\n",
        "violinplt = sns.violinplot(x='Year', y='Selling_Price', hue='Car_Name', data=car_data, palette='Set2', split=True)\n",
        "violinplt.set_title('Year, Selling_Price, and Car_Name')\n",
        "violinplt.set_xlabel('Year')\n",
        "violinplt.set_ylabel('Selling_Price')\n",
        "plt.show()"
      ],
      "metadata": {
        "id": "U2XPxMPdPXdW"
      },
      "execution_count": null,
      "outputs": []
    },
    {
      "cell_type": "code",
      "source": [
        "X = df_encoded.drop('Selling_Price', axis=1)\n",
        "y = df_encoded['Selling_Price']"
      ],
      "metadata": {
        "id": "F2pAAhDs-5Vz"
      },
      "execution_count": null,
      "outputs": []
    },
    {
      "cell_type": "code",
      "source": [
        "# Specify the categorical columns to be encoded\n",
        "categorical_columns = ['Car_Name','Fuel_Type','Selling_type','Transmission']\n",
        "\n",
        "#--- Inspect data ---\n",
        "df_encoded = pd.get_dummies(car_data, columns=categorical_columns)\n",
        "df_encoded = df_encoded.astype(int)\n",
        "df_encoded.dtypes"
      ],
      "metadata": {
        "id": "iF2nfeTkRuj1"
      },
      "execution_count": null,
      "outputs": []
    },
    {
      "cell_type": "code",
      "source": [
        "# Splitting the dataset into training and testing sets\n",
        "X_train, X_test, y_train, y_test = train_test_split(X, y, test_size=0.2, random_state=42)"
      ],
      "metadata": {
        "id": "aiLqwYf5_gaA"
      },
      "execution_count": null,
      "outputs": []
    },
    {
      "cell_type": "code",
      "source": [
        "from sklearn.linear_model import LogisticRegression\n",
        "lr_model  = LogisticRegression()"
      ],
      "metadata": {
        "id": "VzedECFN_mLA"
      },
      "execution_count": null,
      "outputs": []
    },
    {
      "cell_type": "code",
      "source": [
        "lr_model.fit(X_train, y_train)"
      ],
      "metadata": {
        "id": "sQA3s_yuSodz"
      },
      "execution_count": null,
      "outputs": []
    },
    {
      "cell_type": "code",
      "source": [
        "y_pred = lr_model.predict(X_test)"
      ],
      "metadata": {
        "id": "BPlU8xUTSstM"
      },
      "execution_count": null,
      "outputs": []
    },
    {
      "cell_type": "code",
      "source": [
        "from sklearn.metrics import mean_squared_error\n",
        "mse = mean_squared_error(y_test, y_pred)\n",
        "print('Mean Squared Error:', mse)"
      ],
      "metadata": {
        "id": "NisRo6lmSy9x"
      },
      "execution_count": null,
      "outputs": []
    },
    {
      "cell_type": "code",
      "source": [
        "plt.figure(figsize=(10, 6))\n",
        "sns.scatterplot(x=y_test, y=y_pred)\n",
        "plt.xlabel('Actual Selling Price')\n",
        "plt.ylabel('Predicted Selling Price')\n",
        "plt.title('Actual vs. Predicted Selling Price')\n",
        "plt.show()"
      ],
      "metadata": {
        "id": "-NBhFD8VTV0I"
      },
      "execution_count": null,
      "outputs": []
    }
  ]
}
