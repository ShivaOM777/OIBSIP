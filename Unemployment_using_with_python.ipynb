#Task 2
{
  "nbformat": 4,
  "nbformat_minor": 0,
  "metadata": {
    "colab": {
      "private_outputs": true,
      "provenance": []
    },
    "kernelspec": {
      "name": "python3",
      "display_name": "Python 3"
    },
    "language_info": {
      "name": "python"
    }
  },
  "cells": [
    {
      "cell_type": "code",
      "execution_count": null,
      "metadata": {
        "id": "UJhIOfmdrHDs"
      },
      "outputs": [],
      "source": [
        "from google.colab import drive\n",
        "drive.mount('/content/gdrive')"
      ]
    },
    {
      "cell_type": "code",
      "source": [
        "cd /content/gdrive/My Drive/Colab Notebooks"
      ],
      "metadata": {
        "id": "GZLVxCYwr7N3"
      },
      "execution_count": null,
      "outputs": []
    },
    {
      "cell_type": "code",
      "source": [
        "import pandas as pd\n",
        "data = pd.read_csv('Unemployment in India.csv')\n",
        "data.head()"
      ],
      "metadata": {
        "id": "pI8zf5ZFuuke"
      },
      "execution_count": null,
      "outputs": []
    },
    {
      "cell_type": "code",
      "source": [
        "print(data.info())"
      ],
      "metadata": {
        "id": "J6zR-Xu4yb8g"
      },
      "execution_count": null,
      "outputs": []
    },
    {
      "cell_type": "code",
      "source": [
        "data.describe()"
      ],
      "metadata": {
        "id": "IeMvMYR3vSrD"
      },
      "execution_count": null,
      "outputs": []
    },
    {
      "cell_type": "code",
      "source": [
        "data.size"
      ],
      "metadata": {
        "id": "TeKRPlAyvkuP"
      },
      "execution_count": null,
      "outputs": []
    },
    {
      "cell_type": "code",
      "source": [
        "data.shape"
      ],
      "metadata": {
        "id": "nycVImXKvDay"
      },
      "execution_count": null,
      "outputs": []
    },
    {
      "cell_type": "code",
      "source": [
        "data.columns"
      ],
      "metadata": {
        "id": "xCFJOGjCv9gs"
      },
      "execution_count": null,
      "outputs": []
    },
    {
      "cell_type": "code",
      "source": [
        "import numpy as np\n",
        "import matplotlib.pyplot as plt\n",
        "import seaborn as sb"
      ],
      "metadata": {
        "id": "MRtMQETNDoWf"
      },
      "execution_count": null,
      "outputs": []
    },
    {
      "cell_type": "code",
      "source": [
        "# Ensure correct data types\n",
        "data['Region'] = data['Region'].astype(str)  # Convert to string if needed\n",
        "data[' Estimated Unemployment Rate (%)'] = data[' Estimated Unemployment Rate (%)'].astype(float)  # Convert to float if needed"
      ],
      "metadata": {
        "id": "XawDchx-rrrl"
      },
      "execution_count": null,
      "outputs": []
    },
    {
      "cell_type": "code",
      "source": [
        "# Now plot the data\n",
        "x = data['Region'].astype(str)  # Ensure x is string type\n",
        "y = data[' Estimated Unemployment Rate (%)']"
      ],
      "metadata": {
        "id": "iiTYg7TirtDy"
      },
      "execution_count": null,
      "outputs": []
    },
    {
      "cell_type": "code",
      "source": [
        "plt.figure(figsize=(40, 15))\n",
        "plt.xlabel(\"States\", fontweight='bold', fontsize=20)\n",
        "plt.ylabel(\"Estimated Unemployment rate\", fontweight='bold', fontsize=20)\n",
        "plt.xticks(fontweight='bold', rotation='vertical', fontsize=20)\n",
        "plt.yticks(fontweight='bold', fontsize=15)\n",
        "plt.bar(x, y, color='b', align='center')\n",
        "\n",
        "plt.show()"
      ],
      "metadata": {
        "id": "f1JepePCERvu"
      },
      "execution_count": null,
      "outputs": []
    },
    {
      "cell_type": "code",
      "source": [
        "# State wise rate of unemplyement\n",
        "data= data[['Region',' Estimated Unemployment Rate (%)']].groupby('Region').sum().sort_values(by=' Estimated Unemployment Rate (%)', ascending =False)\n",
        "data"
      ],
      "metadata": {
        "id": "LXovgz0CryxG"
      },
      "execution_count": null,
      "outputs": []
    },
    {
      "cell_type": "code",
      "source": [
        "plt.figure(figsize=(10, 6))  # Adjust the figure size as needed\n",
        "plt.scatter(x, y, color='b', alpha=0.5)  # Scatter plot with some transparency\n",
        "\n",
        "plt.xlabel(\"States\", fontweight='bold', fontsize=12)\n",
        "plt.ylabel(\"Estimated Unemployment rate\", fontweight='bold', fontsize=12)\n",
        "plt.title(\"Scatter Plot of Estimated Unemployment Rate by State\", fontweight='bold', fontsize=14)\n",
        "plt.xticks(rotation='vertical')  # Rotate x-axis labels if needed\n",
        "\n",
        "plt.grid(True)  # Show gridlines if desired\n",
        "\n",
        "plt.show()"
      ],
      "metadata": {
        "id": "6CAkxYY8sjn8"
      },
      "execution_count": null,
      "outputs": []
    },
    {
      "cell_type": "code",
      "source": [
        "plt.figure(figsize=(10, 6))\n",
        "plt.hist(data, bins=20, color='skyblue', edgecolor='black')  # Adjust the number of bins as needed\n",
        "plt.xlabel('Estimated Unemployment Rate (%)', fontsize=12)\n",
        "plt.ylabel('Frequency', fontsize=12)\n",
        "plt.title('Histogram of Estimated Unemployment Rate', fontsize=14)\n",
        "plt.grid(True)\n",
        "plt.show()"
      ],
      "metadata": {
        "id": "ulSP6kPJtRJK"
      },
      "execution_count": null,
      "outputs": []
    },
    {
      "cell_type": "code",
      "source": [
        "plt.figure(figsize=(12,10))\n",
        "plt.title('Unemployment In India State Wise')\n",
        "sb.histplot(x=' Estimated Unemployment Rate (%)', hue=\"Region\", data=data)\n",
        "plt.show()"
      ],
      "metadata": {
        "id": "-SXLil8OtvW4"
      },
      "execution_count": null,
      "outputs": []
    }
  ]
}
